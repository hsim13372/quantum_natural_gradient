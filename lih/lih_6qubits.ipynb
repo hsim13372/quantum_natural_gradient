{
 "cells": [
  {
   "cell_type": "code",
   "execution_count": 2,
   "metadata": {
    "colab": {
     "base_uri": "https://localhost:8080/",
     "height": 539
    },
    "colab_type": "code",
    "id": "NdUE3U3ZxQTp",
    "outputId": "1cea783e-8528-4fb4-85fd-13b9241d5175"
   },
   "outputs": [
    {
     "name": "stdout",
     "output_type": "stream",
     "text": [
      "Requirement already satisfied: pennylane-qchem in /usr/local/lib/python3.6/dist-packages (0.8.0)\n",
      "Requirement already satisfied: openfermionpyscf in /usr/local/lib/python3.6/dist-packages (from pennylane-qchem) (0.4)\n",
      "Requirement already satisfied: openfermionpsi4 in /usr/local/lib/python3.6/dist-packages (from pennylane-qchem) (0.4)\n",
      "Requirement already satisfied: openfermion in /usr/local/lib/python3.6/dist-packages (from pennylane-qchem) (0.11.0)\n",
      "Requirement already satisfied: pennylane in /usr/local/lib/python3.6/dist-packages (from pennylane-qchem) (0.8.1)\n",
      "Requirement already satisfied: pyscf in /usr/local/lib/python3.6/dist-packages (from openfermionpyscf->pennylane-qchem) (1.7.1)\n",
      "Requirement already satisfied: pytest in /usr/local/lib/python3.6/dist-packages (from openfermionpyscf->pennylane-qchem) (3.6.4)\n",
      "Requirement already satisfied: requests~=2.18 in /usr/local/lib/python3.6/dist-packages (from openfermion->pennylane-qchem) (2.21.0)\n",
      "Requirement already satisfied: pubchempy in /usr/local/lib/python3.6/dist-packages (from openfermion->pennylane-qchem) (1.0.4)\n",
      "Requirement already satisfied: scipy>=1.1.0 in /usr/local/lib/python3.6/dist-packages (from openfermion->pennylane-qchem) (1.4.1)\n",
      "Requirement already satisfied: networkx in /usr/local/lib/python3.6/dist-packages (from openfermion->pennylane-qchem) (2.4)\n",
      "Requirement already satisfied: h5py>=2.8 in /usr/local/lib/python3.6/dist-packages (from openfermion->pennylane-qchem) (2.10.0)\n",
      "Requirement already satisfied: numpy>=1.11.0 in /usr/local/lib/python3.6/dist-packages (from openfermion->pennylane-qchem) (1.18.2)\n",
      "Requirement already satisfied: semantic-version==2.6 in /usr/local/lib/python3.6/dist-packages (from pennylane->pennylane-qchem) (2.6.0)\n",
      "Requirement already satisfied: appdirs in /usr/local/lib/python3.6/dist-packages (from pennylane->pennylane-qchem) (1.4.3)\n",
      "Requirement already satisfied: toml in /usr/local/lib/python3.6/dist-packages (from pennylane->pennylane-qchem) (0.10.0)\n",
      "Requirement already satisfied: autograd in /usr/local/lib/python3.6/dist-packages (from pennylane->pennylane-qchem) (1.3)\n",
      "Requirement already satisfied: attrs>=17.4.0 in /usr/local/lib/python3.6/dist-packages (from pytest->openfermionpyscf->pennylane-qchem) (19.3.0)\n",
      "Requirement already satisfied: pluggy<0.8,>=0.5 in /usr/local/lib/python3.6/dist-packages (from pytest->openfermionpyscf->pennylane-qchem) (0.7.1)\n",
      "Requirement already satisfied: atomicwrites>=1.0 in /usr/local/lib/python3.6/dist-packages (from pytest->openfermionpyscf->pennylane-qchem) (1.3.0)\n",
      "Requirement already satisfied: six>=1.10.0 in /usr/local/lib/python3.6/dist-packages (from pytest->openfermionpyscf->pennylane-qchem) (1.12.0)\n",
      "Requirement already satisfied: setuptools in /usr/local/lib/python3.6/dist-packages (from pytest->openfermionpyscf->pennylane-qchem) (46.1.3)\n",
      "Requirement already satisfied: py>=1.5.0 in /usr/local/lib/python3.6/dist-packages (from pytest->openfermionpyscf->pennylane-qchem) (1.8.1)\n",
      "Requirement already satisfied: more-itertools>=4.0.0 in /usr/local/lib/python3.6/dist-packages (from pytest->openfermionpyscf->pennylane-qchem) (8.2.0)\n",
      "Requirement already satisfied: certifi>=2017.4.17 in /usr/local/lib/python3.6/dist-packages (from requests~=2.18->openfermion->pennylane-qchem) (2020.4.5.1)\n",
      "Requirement already satisfied: idna<2.9,>=2.5 in /usr/local/lib/python3.6/dist-packages (from requests~=2.18->openfermion->pennylane-qchem) (2.8)\n",
      "Requirement already satisfied: urllib3<1.25,>=1.21.1 in /usr/local/lib/python3.6/dist-packages (from requests~=2.18->openfermion->pennylane-qchem) (1.24.3)\n",
      "Requirement already satisfied: chardet<3.1.0,>=3.0.2 in /usr/local/lib/python3.6/dist-packages (from requests~=2.18->openfermion->pennylane-qchem) (3.0.4)\n",
      "Requirement already satisfied: decorator>=4.3.0 in /usr/local/lib/python3.6/dist-packages (from networkx->openfermion->pennylane-qchem) (4.4.2)\n",
      "Requirement already satisfied: future>=0.15.2 in /usr/local/lib/python3.6/dist-packages (from autograd->pennylane->pennylane-qchem) (0.16.0)\n"
     ]
    }
   ],
   "source": [
    "!pip install pennylane-qchem"
   ]
  },
  {
   "cell_type": "code",
   "execution_count": 0,
   "metadata": {
    "colab": {},
    "colab_type": "code",
    "id": "m2pg3BSdxjR7"
   },
   "outputs": [],
   "source": [
    "import numpy as np\n",
    "import pennylane as qml\n",
    "from pennylane import expval, var, device"
   ]
  },
  {
   "cell_type": "code",
   "execution_count": 21,
   "metadata": {
    "colab": {
     "base_uri": "https://localhost:8080/",
     "height": 1000
    },
    "colab_type": "code",
    "id": "7wk5CgToxlwP",
    "outputId": "ae37f135-7b6a-4a82-f8cc-36bb318052a3"
   },
   "outputs": [
    {
     "name": "stdout",
     "output_type": "stream",
     "text": [
      "(-7.189117345981003) [I0]\n",
      "+ (0.02498336736064769) [Z0]\n",
      "+ (0.0048735920105351035) [Y0 Z1 Y2]\n",
      "+ (0.0048735920105351035) [X0 Z1 X2]\n",
      "+ (0.024983367360647678) [Z1]\n",
      "+ (0.0048735920105351035) [Y1 Z2 Y3]\n",
      "+ (0.0048735920105351035) [X1 Z2 X3]\n",
      "+ (-0.13300290682418384) [Z2]\n",
      "+ (-0.1330029068241838) [Z3]\n",
      "+ (-0.1445363855022916) [Z4]\n",
      "+ (-0.1445363855022916) [Z5]\n",
      "+ (0.13106579035624258) [Z0 Z1]\n",
      "+ (0.009702948635503639) [Y0 Y2]\n",
      "+ (0.009702948635503639) [X0 X2]\n",
      "+ (0.009702948635503639) [Z0 Y1 Z2 Y3]\n",
      "+ (0.009702948635503639) [Z0 X1 Z2 X3]\n",
      "+ (0.002366478148280204) [Y0 X1 X2 Y3]\n",
      "+ (-0.002366478148280204) [Y0 Y1 X2 X3]\n",
      "+ (-0.002366478148280204) [X0 X1 Y2 Y3]\n",
      "+ (0.002366478148280204) [X0 Y1 Y2 X3]\n",
      "+ (0.006795526682425653) [Y0 X1 X4 Y5]\n",
      "+ (-0.006795526682425653) [Y0 Y1 X4 X5]\n",
      "+ (-0.006795526682425653) [X0 X1 Y4 Y5]\n",
      "+ (0.006795526682425653) [X0 Y1 Y4 X5]\n",
      "+ (0.05929524181655196) [Z0 Z2]\n",
      "+ (0.06166171996483217) [Z0 Z3]\n",
      "+ (0.00034735301058658473) [Y0 Z1 Y2 Z3]\n",
      "+ (0.00034735301058658473) [X0 Z1 X2 Z3]\n",
      "+ (0.004889538713704247) [Y0 Z1 Z2 X3 X4 Y5]\n",
      "+ (-0.004889538713704247) [Y0 Z1 Z2 Y3 X4 X5]\n",
      "+ (-0.004889538713704247) [X0 Z1 Z2 X3 Y4 Y5]\n",
      "+ (0.004889538713704247) [X0 Z1 Z2 Y3 Y4 X5]\n",
      "+ (0.06832924266505007) [Z0 Z4]\n",
      "+ (0.004685761056460468) [Y0 Z1 Y2 Z4]\n",
      "+ (0.004685761056460468) [X0 Z1 X2 Z4]\n",
      "+ (0.07512476934747572) [Z0 Z5]\n",
      "+ (-0.00020377765724377862) [Y0 Z1 Y2 Z5]\n",
      "+ (-0.00020377765724377862) [X0 Z1 X2 Z5]\n",
      "+ (0.06166171996483217) [Z1 Z2]\n",
      "+ (0.0003473530105865848) [Y1 Y3]\n",
      "+ (0.0003473530105865848) [X1 X3]\n",
      "+ (-0.004889538713704247) [Y1 X2 X4 Y5]\n",
      "+ (-0.004889538713704247) [Y1 Y2 Y4 Y5]\n",
      "+ (-0.004889538713704247) [X1 X2 X4 X5]\n",
      "+ (-0.004889538713704247) [X1 Y2 Y4 X5]\n",
      "+ (0.05929524181655196) [Z1 Z3]\n",
      "+ (0.07512476934747572) [Z1 Z4]\n",
      "+ (-0.00020377765724377862) [Y1 Z2 Y3 Z4]\n",
      "+ (-0.00020377765724377862) [X1 Z2 X3 Z4]\n",
      "+ (0.06832924266505007) [Z1 Z5]\n",
      "+ (0.004685761056460468) [Y1 Z2 Y3 Z5]\n",
      "+ (0.004685761056460468) [X1 Z2 X3 Z5]\n",
      "+ (0.08475100244618912) [Z2 Z3]\n",
      "+ (0.010590593747757934) [Y2 X3 X4 Y5]\n",
      "+ (-0.010590593747757934) [Y2 Y3 X4 X5]\n",
      "+ (-0.010590593747757934) [X2 X3 Y4 Y5]\n",
      "+ (0.010590593747757934) [X2 Y3 Y4 X5]\n",
      "+ (0.0600970297766772) [Z2 Z4]\n",
      "+ (0.07068762352443513) [Z2 Z5]\n",
      "+ (0.07068762352443513) [Z3 Z4]\n",
      "+ (0.0600970297766772) [Z3 Z5]\n",
      "+ (0.07823637778985212) [Z4 Z5] \n",
      " 6\n"
     ]
    }
   ],
   "source": [
    "name ='LiH';charge = 0; multiplicity=1; basis= 'sto-3g'; geometry = 'lih.xyz';\n",
    "h, nr_qubits = qml.qchem.generate_hamiltonian(\n",
    "    name,\n",
    "    geometry,\n",
    "    charge,\n",
    "    multiplicity,\n",
    "    basis,\n",
    "    mapping='jordan_wigner',\n",
    "    n_active_orbitals=3,\n",
    "    n_active_electrons=2,\n",
    ")\n",
    "print(h, '\\n', nr_qubits)"
   ]
  },
  {
   "cell_type": "code",
   "execution_count": 0,
   "metadata": {
    "colab": {},
    "colab_type": "code",
    "id": "d97VPt5vyJ_T"
   },
   "outputs": [],
   "source": [
    "dev = qml.device(\"default.qubit\", wires=6)\n",
    "\n",
    "def circuit(params, wires=[0,1,2,3,4,5]):\n",
    "    for i in wires:\n",
    "        qml.RY(params[i], wires=wires[i])\n",
    "    qml.CNOT(wires=[wires[0], wires[1]])\n",
    "    qml.CNOT(wires=[wires[2], wires[3]])\n",
    "    qml.CNOT(wires=[wires[4], wires[5]])\n",
    "    qml.CNOT(wires=[wires[1], wires[2]])\n",
    "    qml.CNOT(wires=[wires[3], wires[4]])\n",
    "    for i in wires:\n",
    "        qml.RY(params[i+6], wires=wires[i])\n",
    "    qml.CNOT(wires=[wires[0], wires[1]])\n",
    "    qml.CNOT(wires=[wires[2], wires[3]])\n",
    "    qml.CNOT(wires=[wires[4], wires[5]])\n",
    "    qml.CNOT(wires=[wires[1], wires[2]])\n",
    "    qml.CNOT(wires=[wires[3], wires[4]])"
   ]
  },
  {
   "cell_type": "code",
   "execution_count": 0,
   "metadata": {
    "colab": {},
    "colab_type": "code",
    "id": "2y1q6o-kyaeN"
   },
   "outputs": [],
   "source": [
    "qnodes = qml.map(circuit, h.ops, dev, measure='expval')\n",
    "expval = qml.dot([h.coeffs], qnodes)"
   ]
  },
  {
   "cell_type": "code",
   "execution_count": 0,
   "metadata": {
    "colab": {},
    "colab_type": "code",
    "id": "npehlyaPyoWC"
   },
   "outputs": [],
   "source": [
    "step_size = 0.4\n",
    "max_iterations = 400\n",
    "conv_tol = 1e-06\n",
    "\n",
    "print_freq = 20\n",
    "\n",
    "initial_params = np.random.uniform(low=0, high=2*np.pi, size=12)"
   ]
  },
  {
   "cell_type": "code",
   "execution_count": 15,
   "metadata": {
    "colab": {
     "base_uri": "https://localhost:8080/",
     "height": 504
    },
    "colab_type": "code",
    "id": "nfkgL1Spytjg",
    "outputId": "73a51a3a-e0e9-4b2f-d6e0-beaf10ac3bf2"
   },
   "outputs": [
    {
     "name": "stdout",
     "output_type": "stream",
     "text": [
      "Iteration = 0 Energy = [-7.2922539] Ha Convergence parameter = [0.18704582] Ha\n",
      "Iteration = 20 Energy = [-7.6064532] Ha Convergence parameter = [0.00074791] Ha\n",
      "Iteration = 40 Energy = [-7.61148202] Ha Convergence parameter = [6.34958078e-05] Ha\n",
      "Iteration = 60 Energy = [-7.61204198] Ha Convergence parameter = [1.51635766e-05] Ha\n",
      "Iteration = 80 Energy = [-7.61234379] Ha Convergence parameter = [1.67527172e-05] Ha\n",
      "Iteration = 100 Energy = [-7.6127408] Ha Convergence parameter = [2.27127923e-05] Ha\n",
      "Iteration = 120 Energy = [-7.61325065] Ha Convergence parameter = [2.77002327e-05] Ha\n",
      "Iteration = 140 Energy = [-7.6138386] Ha Convergence parameter = [3.06199046e-05] Ha\n",
      "Iteration = 160 Energy = [-7.61446618] Ha Convergence parameter = [3.18280649e-05] Ha\n",
      "Iteration = 180 Energy = [-7.61510236] Ha Convergence parameter = [3.15542854e-05] Ha\n",
      "Iteration = 200 Energy = [-7.61571735] Ha Convergence parameter = [2.979545e-05] Ha\n",
      "Iteration = 220 Energy = [-7.61628358] Ha Convergence parameter = [2.68126152e-05] Ha\n",
      "Iteration = 240 Energy = [-7.61678191] Ha Convergence parameter = [2.31385703e-05] Ha\n",
      "Iteration = 260 Energy = [-7.61720452] Ha Convergence parameter = [1.93300619e-05] Ha\n",
      "Iteration = 280 Energy = [-7.61755329] Ha Convergence parameter = [1.57922795e-05] Ha\n",
      "Iteration = 300 Energy = [-7.61783619] Ha Convergence parameter = [1.27410461e-05] Ha\n",
      "Iteration = 320 Energy = [-7.61806392] Ha Convergence parameter = [1.02507942e-05] Ha\n",
      "Iteration = 340 Energy = [-7.61824783] Ha Convergence parameter = [8.33174187e-06] Ha\n",
      "Iteration = 360 Energy = [-7.61839958] Ha Convergence parameter = [7.01760155e-06] Ha\n",
      "Iteration = 380 Energy = [-7.61853282] Ha Convergence parameter = [6.49652316e-06] Ha\n",
      "\n",
      "Final convergence parameter = [7.31885527e-06]\n",
      "Final value of the ground-state energy =  [-7.6186616]\n",
      "\n",
      "Final circuit parameters = \n",
      " [ 1.11155858  4.68251229  6.28526559  3.1423582   2.3010177  -0.7386906\n",
      "  4.25308869  4.65150569  4.78617405  6.28512578  6.92963125  2.20688042]\n",
      "Number of iterations =  399\n"
     ]
    }
   ],
   "source": [
    "params = initial_params\n",
    "prev_energy = expval(params)\n",
    "qng_energies_block = []\n",
    "\n",
    "for n in range(max_iterations):\n",
    "    \n",
    "    grad_cost = qml.grad(expval, argnum=[0])\n",
    "    grad_at_point = [float(i) for i in grad_cost(params)[0]] \n",
    "    \n",
    "    params = params - step_size * np.dot(\n",
    "                np.linalg.pinv(qnodes[0].metric_tensor([params])), \n",
    "                grad_at_point)\n",
    "\n",
    "    energy = expval(params)\n",
    "    qng_energies_block.append(energy)\n",
    "    \n",
    "    conv = np.abs(energy - prev_energy)\n",
    "\n",
    "    if n % print_freq == 0:\n",
    "        print('Iteration = {:}'.format(n), 'Energy =', energy, 'Ha', 'Convergence parameter =', conv, 'Ha')\n",
    "\n",
    "    if conv <= conv_tol:\n",
    "        break\n",
    "\n",
    "    prev_energy = energy\n",
    "\n",
    "print()\n",
    "print('Final convergence parameter =', conv)\n",
    "print('Final value of the ground-state energy = ', energy)\n",
    "print()\n",
    "print('Final circuit parameters = \\n', params)\n",
    "print('Number of iterations = ', n)"
   ]
  },
  {
   "cell_type": "code",
   "execution_count": 31,
   "metadata": {
    "colab": {
     "base_uri": "https://localhost:8080/",
     "height": 261
    },
    "colab_type": "code",
    "id": "EivtRLTFB8bH",
    "outputId": "4fecd68e-ac75-45e9-effc-48f1c19e4454"
   },
   "outputs": [
    {
     "name": "stdout",
     "output_type": "stream",
     "text": [
      "Iteration = 0 Energy = [-7.27765365] Ha Convergence parameter = [0.23015041] Ha\n",
      "Iteration = 20 Energy = [-7.74570958] Ha Convergence parameter = [0.00302031] Ha\n",
      "Iteration = 40 Energy = [-7.76535707] Ha Convergence parameter = [0.00024679] Ha\n",
      "Iteration = 60 Energy = [-7.7671507] Ha Convergence parameter = [2.41558792e-05] Ha\n",
      "Iteration = 80 Energy = [-7.76733481] Ha Convergence parameter = [2.78237134e-06] Ha\n",
      "\n",
      "Final convergence parameter = [9.32091385e-07]\n",
      "Final value of the ground-state energy =  [-7.76735241]\n",
      "\n",
      "Final circuit parameters = \n",
      " [ 3.14164093e+00  2.57859762e+00  4.73071874e+00  1.57083381e+00\n",
      "  4.71238905e+00  1.58221914e+00 -1.89855968e-04  6.84629933e+00\n",
      "  4.69622231e+00  4.71238951e+00  1.57079630e+00 -1.57078076e+00]\n",
      "Number of iterations =  91\n"
     ]
    }
   ],
   "source": [
    "params = initial_params\n",
    "prev_energy = expval(params)\n",
    "qng_energies_diag = []\n",
    "\n",
    "for n in range(max_iterations):\n",
    "    \n",
    "    grad_cost = qml.grad(expval, argnum=[0])\n",
    "    grad_at_point = [float(i) for i in grad_cost(params)[0]] \n",
    "    \n",
    "    params = params - step_size * np.dot(np.linalg.pinv(qnodes[0].metric_tensor([params], diag_approx=True)),\n",
    "                                         grad_at_point)\n",
    "\n",
    "    energy = expval(params)\n",
    "    qng_energies_diag.append(energy)\n",
    "    \n",
    "    conv = np.abs(energy - prev_energy)\n",
    "\n",
    "    if n % print_freq == 0:\n",
    "        print('Iteration = {:}'.format(n), 'Energy =', energy, 'Ha', 'Convergence parameter =', conv, 'Ha')\n",
    "   \n",
    "    if conv <= conv_tol:\n",
    "        qng_diag_steps = n\n",
    "        break\n",
    "\n",
    "    prev_energy = energy\n",
    "\n",
    "print()\n",
    "print('Final convergence parameter =', conv)\n",
    "print('Final value of the ground-state energy = ', energy)\n",
    "print()\n",
    "print('Final circuit parameters = \\n', params)\n",
    "print('Number of iterations = ', n)"
   ]
  },
  {
   "cell_type": "code",
   "execution_count": 32,
   "metadata": {
    "colab": {
     "base_uri": "https://localhost:8080/",
     "height": 522
    },
    "colab_type": "code",
    "id": "yqIHkxpPBjZU",
    "outputId": "ee796acb-31f7-420c-8fee-0baa380d8126"
   },
   "outputs": [
    {
     "name": "stdout",
     "output_type": "stream",
     "text": [
      "Iteration = 0 Energy = [-7.075] Ha Convergence parameter = [0.02749675] Ha\n",
      "Iteration = 20 Energy = [-7.39745616] Ha Convergence parameter = [0.00874451] Ha\n",
      "Iteration = 40 Energy = [-7.51891014] Ha Convergence parameter = [0.00446219] Ha\n",
      "Iteration = 60 Energy = [-7.58679999] Ha Convergence parameter = [0.00263348] Ha\n",
      "Iteration = 80 Energy = [-7.62992271] Ha Convergence parameter = [0.00184162] Ha\n",
      "Iteration = 100 Energy = [-7.66290429] Ha Convergence parameter = [0.00150765] Ha\n",
      "Iteration = 120 Energy = [-7.69023571] Ha Convergence parameter = [0.00123095] Ha\n",
      "Iteration = 140 Energy = [-7.71148148] Ha Convergence parameter = [0.00090742] Ha\n",
      "Iteration = 160 Energy = [-7.7265063] Ha Convergence parameter = [0.00062306] Ha\n",
      "Iteration = 180 Energy = [-7.73678492] Ha Convergence parameter = [0.00042904] Ha\n",
      "Iteration = 200 Energy = [-7.74398752] Ha Convergence parameter = [0.00030654] Ha\n",
      "Iteration = 220 Energy = [-7.74922667] Ha Convergence parameter = [0.00022665] Ha\n",
      "Iteration = 240 Energy = [-7.75315066] Ha Convergence parameter = [0.00017169] Ha\n",
      "Iteration = 260 Energy = [-7.75614983] Ha Convergence parameter = [0.00013226] Ha\n",
      "Iteration = 280 Energy = [-7.75847471] Ha Convergence parameter = [0.00010308] Ha\n",
      "Iteration = 300 Energy = [-7.76029444] Ha Convergence parameter = [8.0978468e-05] Ha\n",
      "Iteration = 320 Energy = [-7.76172794] Ha Convergence parameter = [6.39394006e-05] Ha\n",
      "Iteration = 340 Energy = [-7.76286178] Ha Convergence parameter = [5.06484777e-05] Ha\n",
      "Iteration = 360 Energy = [-7.76376095] Ha Convergence parameter = [4.02033562e-05] Ha\n",
      "Iteration = 380 Energy = [-7.76447522] Ha Convergence parameter = [3.19582798e-05] Ha\n",
      "\n",
      "Final convergence parameter = [2.57250733e-05]\n",
      "Final value of the ground-state energy =  [-7.76501792]\n",
      "\n",
      "Final circuit parameters = \n",
      " [ 3.13815296e+00  2.61740862e+00  4.88736001e+00  1.56357703e+00\n",
      "  4.71597060e+00  1.87388542e+00 -1.55262120e-03  6.81502437e+00\n",
      "  4.55556200e+00  4.71050857e+00  1.57082174e+00 -1.54830806e+00]\n",
      "Number of iterations =  399\n"
     ]
    }
   ],
   "source": [
    "params = initial_params\n",
    "prev_energy = expval(params)\n",
    "vanilla_energies = []\n",
    "\n",
    "for n in range(max_iterations):\n",
    "    \n",
    "    grad_cost = qml.grad(expval, argnum=[0])\n",
    "    grad_at_point = [float(i) for i in grad_cost(params)[0]] \n",
    "    \n",
    "    params = params - step_size * np.dot(step_size, grad_at_point)\n",
    "\n",
    "    energy = expval(params)\n",
    "    vanilla_energies.append(energy)\n",
    "    \n",
    "    conv = np.abs(energy - prev_energy)\n",
    "\n",
    "    if n % print_freq == 0:\n",
    "        print('Iteration = {:}'.format(n), 'Energy =', energy, 'Ha', 'Convergence parameter =', conv, 'Ha')\n",
    "\n",
    "    if conv <= conv_tol:\n",
    "        break\n",
    "\n",
    "    prev_energy = energy\n",
    "\n",
    "print()\n",
    "print('Final convergence parameter =', conv)\n",
    "print('Final value of the ground-state energy = ', energy)\n",
    "print()\n",
    "print('Final circuit parameters = \\n', params)\n",
    "print('Number of iterations = ', n)"
   ]
  },
  {
   "cell_type": "code",
   "execution_count": 33,
   "metadata": {
    "colab": {
     "base_uri": "https://localhost:8080/",
     "height": 361
    },
    "colab_type": "code",
    "id": "He3KgQRoB2dh",
    "outputId": "f6ffbb8f-c57f-4d10-918b-55005842ee65"
   },
   "outputs": [
    {
     "data": {
      "image/png": "[encoded data removed]",
      "text/plain": [
       "<Figure size 576x396 with 1 Axes>"
      ]
     },
     "metadata": {
      "tags": []
     },
     "output_type": "display_data"
    }
   ],
   "source": [
    "from matplotlib import pyplot as plt\n",
    "\n",
    "plt.style.use(\"seaborn\")\n",
    "plt.plot(qng_energies_block, label=\"QNG Block Diagonal Approximation\")\n",
    "plt.plot(qng_energies_diag, label=\"QNG Diagonal Approximation\")\n",
    "plt.plot(vanilla_energies, label=\"Vanilla Gradient Descent\")\n",
    "\n",
    "plt.ylabel(\"Energy\")\n",
    "plt.xlabel(\"Optimization steps\")\n",
    "plt.legend()\n",
    "plt.show()"
   ]
  }
 ],
 "metadata": {
  "colab": {
   "name": "qng_attempt_lih_maggie",
   "provenance": []
  },
  "kernelspec": {
   "display_name": "Python 3",
   "language": "python",
   "name": "python3"
  },
  "language_info": {
   "codemirror_mode": {
    "name": "ipython",
    "version": 3
   },
   "file_extension": ".py",
   "mimetype": "text/x-python",
   "name": "python",
   "nbconvert_exporter": "python",
   "pygments_lexer": "ipython3",
   "version": "3.7.4"
  }
 },
 "nbformat": 4,
 "nbformat_minor": 1
}
