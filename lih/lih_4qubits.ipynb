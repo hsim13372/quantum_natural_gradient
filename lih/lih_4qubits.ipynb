{
 "cells": [
  {
   "cell_type": "markdown",
   "metadata": {},
   "source": [
    "## LiH VQE  4 Qubit Example"
   ]
  },
  {
   "cell_type": "code",
   "execution_count": 1,
   "metadata": {
    "colab": {},
    "colab_type": "code",
    "id": "JK_gVKFbS3mR"
   },
   "outputs": [],
   "source": [
    "#import packages\n",
    "import numpy as np\n",
    "import pennylane as qml\n",
    "from pennylane import expval, var, device, VQECost\n",
    "\n",
    "import sys\n",
    "sys.path.append('../')\n",
    "from run_vqe import *\n",
    "\n",
    "pi = np.pi"
   ]
  },
  {
   "cell_type": "code",
   "execution_count": 2,
   "metadata": {
    "colab": {
     "base_uri": "https://localhost:8080/",
     "height": 1000
    },
    "colab_type": "code",
    "id": "v3agYICYWLuq",
    "outputId": "0deef5fc-5fb9-4d07-a816-dba53d777223"
   },
   "outputs": [
    {
     "name": "stdout",
     "output_type": "stream",
     "text": [
      "4\n"
     ]
    }
   ],
   "source": [
    "name ='LiH';charge = 0;multiplicity=1;basis= 'sto-3g';geometry = 'lih.xyz';\n",
    "h, nr_qubits = qml.qchem.generate_hamiltonian(\n",
    "    name,\n",
    "    geometry,\n",
    "    charge,\n",
    "    multiplicity,\n",
    "    basis,\n",
    "    mapping='jordan_wigner',\n",
    "    n_active_orbitals=2,\n",
    "    n_active_electrons=2,\n",
    ")\n",
    "print(nr_qubits)"
   ]
  },
  {
   "cell_type": "code",
   "execution_count": 3,
   "metadata": {
    "colab": {},
    "colab_type": "code",
    "id": "Uej1Hp1cS74d"
   },
   "outputs": [],
   "source": [
    "dev = qml.device(\"default.qubit\", wires=4)\n",
    "def ansatz(params, wires=[0,1,2,3]):\n",
    "    qml.BasisState(np.array([1, 1, 0, 0]), wires=wires)\n",
    "    for i in wires:\n",
    "        qml.RY(params[i], wires=wires[i])\n",
    "    qml.CNOT(wires=[wires[0], wires[1]])\n",
    "    qml.CNOT(wires=[wires[2], wires[3]])\n",
    "    qml.CNOT(wires=[wires[1], wires[2]])\n",
    "    for i in wires:\n",
    "        qml.RY(params[i+4], wires=wires[i])\n",
    "    qml.CNOT(wires=[wires[0], wires[1]])\n",
    "    qml.CNOT(wires=[wires[2], wires[3]])\n",
    "    qml.CNOT(wires=[wires[1], wires[2]])"
   ]
  },
  {
   "cell_type": "code",
   "execution_count": 4,
   "metadata": {
    "colab": {},
    "colab_type": "code",
    "id": "b7zx1-VGXo2e"
   },
   "outputs": [],
   "source": [
    "cost = VQECost(ansatz, h, dev)"
   ]
  },
  {
   "cell_type": "code",
   "execution_count": 5,
   "metadata": {
    "colab": {
     "base_uri": "https://localhost:8080/",
     "height": 1000
    },
    "colab_type": "code",
    "id": "7Kz1HQIc44UQ",
    "outputId": "646dbb51-e5a1-472e-9af8-38174dddead1"
   },
   "outputs": [
    {
     "name": "stdout",
     "output_type": "stream",
     "text": [
      "QNG\n",
      "Iteration = 0,  Ground-state energy = -7.39682593 Ha,  Convergence parameter = 0.01850782 Ha\n",
      "Iteration = 20,  Ground-state energy = -7.62671713 Ha,  Convergence parameter = 0.00443753 Ha\n",
      "Iteration = 40,  Ground-state energy = -7.68067582 Ha,  Convergence parameter = 0.00198604 Ha\n",
      "Iteration = 60,  Ground-state energy = -7.71427018 Ha,  Convergence parameter = 0.00144494 Ha\n",
      "Iteration = 80,  Ground-state energy = -7.73813195 Ha,  Convergence parameter = 0.00095651 Ha\n",
      "Iteration = 100,  Ground-state energy = -7.75221093 Ha,  Convergence parameter = 0.00049663 Ha\n",
      "Iteration = 120,  Ground-state energy = -7.75891855 Ha,  Convergence parameter = 0.00022084 Ha\n",
      "Iteration = 140,  Ground-state energy = -7.76188753 Ha,  Convergence parameter = 0.00010012 Ha\n",
      "Iteration = 160,  Ground-state energy = -7.76331137 Ha,  Convergence parameter = 0.00005180 Ha\n",
      "Iteration = 180,  Ground-state energy = -7.76410354 Ha,  Convergence parameter = 0.00003111 Ha\n",
      "Iteration = 200,  Ground-state energy = -7.76460890 Ha,  Convergence parameter = 0.00002100 Ha\n",
      "Iteration = 220,  Ground-state energy = -7.76496493 Ha,  Convergence parameter = 0.00001538 Ha\n",
      "Iteration = 240,  Ground-state energy = -7.76523358 Ha,  Convergence parameter = 0.00001192 Ha\n",
      "Iteration = 260,  Ground-state energy = -7.76544644 Ha,  Convergence parameter = 0.00000963 Ha\n",
      "Iteration = 280,  Ground-state energy = -7.76562127 Ha,  Convergence parameter = 0.00000802 Ha\n",
      "Iteration = 300,  Ground-state energy = -7.76576873 Ha,  Convergence parameter = 0.00000684 Ha\n",
      "Iteration = 320,  Ground-state energy = -7.76589562 Ha,  Convergence parameter = 0.00000593 Ha\n",
      "Iteration = 340,  Ground-state energy = -7.76600642 Ha,  Convergence parameter = 0.00000521 Ha\n",
      "Vanilla\n",
      "Iteration = 0,  Ground-state energy = -7.38206126 Ha,  Convergence parameter = 0.00374316 Ha\n",
      "Iteration = 20,  Ground-state energy = -7.45617231 Ha,  Convergence parameter = 0.00356984 Ha\n",
      "Iteration = 40,  Ground-state energy = -7.52088172 Ha,  Convergence parameter = 0.00287935 Ha\n",
      "Iteration = 60,  Ground-state energy = -7.56982876 Ha,  Convergence parameter = 0.00206842 Ha\n",
      "Iteration = 80,  Ground-state energy = -7.60410466 Ha,  Convergence parameter = 0.00142975 Ha\n",
      "Iteration = 100,  Ground-state energy = -7.62800412 Ha,  Convergence parameter = 0.00101432 Ha\n",
      "Iteration = 120,  Ground-state energy = -7.64543800 Ha,  Convergence parameter = 0.00076291 Ha\n",
      "Iteration = 140,  Ground-state energy = -7.65897268 Ha,  Convergence parameter = 0.00061032 Ha\n",
      "Iteration = 160,  Ground-state energy = -7.67009322 Ha,  Convergence parameter = 0.00051336 Ha\n",
      "Iteration = 180,  Ground-state energy = -7.67963265 Ha,  Convergence parameter = 0.00044776 Ha\n",
      "Iteration = 200,  Ground-state energy = -7.68806865 Ha,  Convergence parameter = 0.00040055 Ha\n",
      "Iteration = 220,  Ground-state energy = -7.69568756 Ha,  Convergence parameter = 0.00036461 Ha\n",
      "Iteration = 240,  Ground-state energy = -7.70266761 Ha,  Convergence parameter = 0.00033576 Ha\n",
      "Iteration = 260,  Ground-state energy = -7.70912062 Ha,  Convergence parameter = 0.00031132 Ha\n",
      "Iteration = 280,  Ground-state energy = -7.71511440 Ha,  Convergence parameter = 0.00028946 Ha\n",
      "Iteration = 300,  Ground-state energy = -7.72068628 Ha,  Convergence parameter = 0.00026890 Ha\n",
      "Iteration = 320,  Ground-state energy = -7.72585298 Ha,  Convergence parameter = 0.00024881 Ha\n",
      "Iteration = 340,  Ground-state energy = -7.73061861 Ha,  Convergence parameter = 0.00022874 Ha\n"
     ]
    }
   ],
   "source": [
    "max_iterations = 350\n",
    "step_size = 0.05\n",
    "conv_tol = 1e-06\n",
    "initial_params = np.random.uniform(low=0, high=2*np.pi, size=8)\n",
    "\n",
    "print(\"QNG\")\n",
    "qng_run = run_vqe(cost, max_iterations, initial_params, 'QNGOptimizer', step_size, diag_approx=False)\n",
    "\n",
    "print(\"Vanilla\")\n",
    "vanilla_run = run_vqe(cost, max_iterations, initial_params, 'GradientDescentOptimizer', step_size)"
   ]
  },
  {
   "cell_type": "code",
   "execution_count": 10,
   "metadata": {
    "colab": {
     "base_uri": "https://localhost:8080/",
     "height": 279
    },
    "colab_type": "code",
    "id": "4tDMZhD045nO",
    "outputId": "6c1281c3-7c9f-4a19-8089-09f091dbfebc"
   },
   "outputs": [
    {
     "data": {
      "image/png": "[encoded data removed]",
      "text/plain": [
       "<Figure size 576x396 with 1 Axes>"
      ]
     },
     "metadata": {},
     "output_type": "display_data"
    }
   ],
   "source": [
    "from matplotlib import pyplot as plt\n",
    "plt.style.use(\"seaborn\")\n",
    "ax = plt.axes()\n",
    "plt.plot(qng_run[0], \"black\", label=\"QNG\")\n",
    "plt.plot(vanilla_run[0], \"b\", label=\"Vanilla GD\")\n",
    "\n",
    "plt.ylabel(\"Energy\", fontsize=16)\n",
    "plt.xlabel(\"Step\", fontsize=16)\n",
    "ax.axhline(y=-7.767496700950545, label='Groundstate', color='r')\n",
    "\n",
    "plt.legend(fontsize=16)\n",
    "plt.show()"
   ]
  }
 ],
 "metadata": {
  "colab": {
   "name": "lih_example.ipynb",
   "provenance": []
  },
  "kernelspec": {
   "display_name": "Python 3",
   "language": "python",
   "name": "python3"
  }
 },
 "nbformat": 4,
 "nbformat_minor": 1
}
