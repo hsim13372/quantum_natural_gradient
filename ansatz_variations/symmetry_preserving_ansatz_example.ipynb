{
 "cells": [
  {
   "cell_type": "code",
   "execution_count": 2,
   "metadata": {},
   "outputs": [],
   "source": [
    "import numpy as np\n",
    "import pennylane as qml\n",
    "from pennylane import expval, var, device\n",
    "pi = np.pi"
   ]
  },
  {
   "cell_type": "code",
   "execution_count": 3,
   "metadata": {},
   "outputs": [
    {
     "name": "stdout",
     "output_type": "stream",
     "text": [
      "4\n"
     ]
    }
   ],
   "source": [
    "name ='LiH';charge = 0;multiplicity=1;basis= 'sto-3g';geometry = 'lih.xyz';\n",
    "h, nr_qubits = qml.qchem.generate_hamiltonian(\n",
    "    name,\n",
    "    geometry,\n",
    "    charge,\n",
    "    multiplicity,\n",
    "    basis,\n",
    "    mapping='jordan_wigner',\n",
    "    n_active_orbitals=2,\n",
    "    n_active_electrons=2,\n",
    ")\n",
    "print(nr_qubits)"
   ]
  },
  {
   "cell_type": "code",
   "execution_count": 6,
   "metadata": {},
   "outputs": [],
   "source": [
    "@qml.template\n",
    "def R(theta, phi, wires):\n",
    "    \"\"\"Decompose the R(theta, phi) operation.\n",
    "    R(theta, phi) = Rz(phi+pi).Ry(theta+pi/2)\n",
    "                  = Rz(pi).Rz(phi).RY(theta).{{1, -1}, {1, 1}}/sqrt(2)\n",
    "    \"\"\"\n",
    "    H = np.array([[1, -1], [1, 1]])/np.sqrt(2)\n",
    "    qml.QubitUnitary(H, wires=wires[0])\n",
    "    qml.RY(theta, wires=wires[0])\n",
    "    qml.RZ(phi, wires=wires[0])\n",
    "\n",
    "class A(qml.operation.Operation):\n",
    "    num_params = 2\n",
    "    num_wires = 2\n",
    "    par_domain = \"R\"\n",
    "    grad_method = \"A\"\n",
    "\n",
    "    @staticmethod\n",
    "    @qml.template\n",
    "    def decomposition(theta, phi, wires):\n",
    "        \"\"\"Perform the A gate decomposition from the paper\"\"\"\n",
    "        qml.CNOT(wires=[wires[1], wires[0]])\n",
    "        qml.inv(R(theta, phi, wires=[wires[1]]))\n",
    "        qml.CNOT(wires=[wires[0], wires[1]])\n",
    "        R(theta, phi, wires=[wires[1]])\n",
    "        qml.CNOT(wires=[wires[1], wires[0]])\n"
   ]
  },
  {
   "cell_type": "code",
   "execution_count": 7,
   "metadata": {},
   "outputs": [],
   "source": [
    "dev = qml.device(\"default.qubit\", wires=4)"
   ]
  },
  {
   "cell_type": "code",
   "execution_count": 12,
   "metadata": {},
   "outputs": [],
   "source": [
    "def circuit(params,wires=[0,1,2,3]):\n",
    "    qml.PauliX(wires=wires[1])\n",
    "    qml.PauliX(wires=wires[2])\n",
    "\n",
    "    A(params[0],params[1], wires=[wires[0],wires[1]])\n",
    "    A(params[2],params[1], wires=[wires[2],wires[3]])\n",
    "    A(params[3],params[1], wires=[wires[1],wires[2]])\n",
    "\n",
    "    A(params[4],params[5], wires=[wires[0],wires[1]])\n",
    "    A(params[6],params[7], wires=[wires[2],wires[3]])\n",
    "    A(params[8],params[9], wires=[wires[1],wires[2]])"
   ]
  },
  {
   "cell_type": "code",
   "execution_count": 27,
   "metadata": {},
   "outputs": [],
   "source": [
    "initial_params = np.random.uniform(low=0, high=2*np.pi, size=10)"
   ]
  },
  {
   "cell_type": "code",
   "execution_count": 28,
   "metadata": {},
   "outputs": [],
   "source": [
    "qnodes = qml.map(circuit, h.ops, dev, measure='expval')\n",
    "cost = qml.dot([h.coeffs], qnodes)"
   ]
  },
  {
   "cell_type": "code",
   "execution_count": 29,
   "metadata": {},
   "outputs": [
    {
     "data": {
      "text/plain": [
       "array([-7.67028738])"
      ]
     },
     "execution_count": 29,
     "metadata": {},
     "output_type": "execute_result"
    }
   ],
   "source": [
    "cost(initial_params)"
   ]
  },
  {
   "cell_type": "code",
   "execution_count": 30,
   "metadata": {},
   "outputs": [
    {
     "name": "stdout",
     "output_type": "stream",
     "text": [
      "[[ 2.50000000e-01 -4.97880932e-18  0.00000000e+00  0.00000000e+00\n",
      "   0.00000000e+00  0.00000000e+00  0.00000000e+00  0.00000000e+00\n",
      "   0.00000000e+00  0.00000000e+00]\n",
      " [-4.97880932e-18  2.15274983e-02  0.00000000e+00  0.00000000e+00\n",
      "   0.00000000e+00  0.00000000e+00  0.00000000e+00  0.00000000e+00\n",
      "   0.00000000e+00  0.00000000e+00]\n",
      " [ 0.00000000e+00  0.00000000e+00  2.50000000e-01  0.00000000e+00\n",
      "   0.00000000e+00  0.00000000e+00  0.00000000e+00  0.00000000e+00\n",
      "   0.00000000e+00  0.00000000e+00]\n",
      " [ 0.00000000e+00  0.00000000e+00  0.00000000e+00  2.50000000e-01\n",
      "   0.00000000e+00  0.00000000e+00  0.00000000e+00  0.00000000e+00\n",
      "   0.00000000e+00  0.00000000e+00]\n",
      " [ 0.00000000e+00  0.00000000e+00  0.00000000e+00  0.00000000e+00\n",
      "   2.37490694e-01  0.00000000e+00  0.00000000e+00 -3.04318342e-03\n",
      "   0.00000000e+00  0.00000000e+00]\n",
      " [ 0.00000000e+00  0.00000000e+00  0.00000000e+00  0.00000000e+00\n",
      "   0.00000000e+00  2.50000000e-01  0.00000000e+00  0.00000000e+00\n",
      "   0.00000000e+00  0.00000000e+00]\n",
      " [ 0.00000000e+00  0.00000000e+00  0.00000000e+00  0.00000000e+00\n",
      "   0.00000000e+00  0.00000000e+00  2.48622033e-01  0.00000000e+00\n",
      "   0.00000000e+00  0.00000000e+00]\n",
      " [ 0.00000000e+00  0.00000000e+00  0.00000000e+00  0.00000000e+00\n",
      "  -3.04318342e-03  0.00000000e+00  0.00000000e+00  2.50000000e-01\n",
      "   0.00000000e+00  0.00000000e+00]\n",
      " [ 0.00000000e+00  0.00000000e+00  0.00000000e+00  0.00000000e+00\n",
      "   0.00000000e+00  0.00000000e+00  0.00000000e+00  0.00000000e+00\n",
      "   2.21973597e-01  0.00000000e+00]\n",
      " [ 0.00000000e+00  0.00000000e+00  0.00000000e+00  0.00000000e+00\n",
      "   0.00000000e+00  0.00000000e+00  0.00000000e+00  0.00000000e+00\n",
      "   0.00000000e+00  2.50000000e-01]]\n"
     ]
    }
   ],
   "source": [
    "fb_metric = qnodes[0].metric_tensor([initial_params])\n",
    "print(fb_metric)"
   ]
  },
  {
   "cell_type": "code",
   "execution_count": 31,
   "metadata": {},
   "outputs": [
    {
     "name": "stdout",
     "output_type": "stream",
     "text": [
      "step = 0 \n",
      " energy = [-7.6806214] \n",
      " convergence = [0.07833155] ha\n",
      "step = 20 \n",
      " energy = [-7.75742028] \n",
      " convergence = [0.00116847] ha\n",
      "step = 40 \n",
      " energy = [-7.76600925] \n",
      " convergence = [0.00011748] ha\n",
      "step = 60 \n",
      " energy = [-7.76690869] \n",
      " convergence = [1.39242548e-05] ha\n",
      "step = 80 \n",
      " energy = [-7.76703706] \n",
      " convergence = [3.12574422e-06] ha\n",
      "step = 100 \n",
      " energy = [-7.76708153] \n",
      " convergence = [1.77013817e-06] ha\n",
      "step = 120 \n",
      " energy = [-7.76711279] \n",
      " convergence = [1.41952595e-06] ha\n",
      "step = 140 \n",
      " energy = [-7.76713887] \n",
      " convergence = [1.2096882e-06] ha\n",
      "step = 160 \n",
      " energy = [-7.76716128] \n",
      " convergence = [1.04477285e-06] ha\n",
      "found ground-state at step 167\n",
      "Groud-state energy =  [-7.76716839]\n"
     ]
    }
   ],
   "source": [
    "max_iter = 200\n",
    "step_size = 0.05\n",
    "conv_tol = 1e-6\n",
    "\n",
    "energycost = []\n",
    "params = initial_params\n",
    "\n",
    "for n in range(max_iter):\n",
    "    gradient = qml.grad(cost, argnum=[0])\n",
    "    grad_at_point = [float(i) for i in gradient(params)[0]]\n",
    "    \n",
    "    params = params - step_size * np.dot(\n",
    "                np.linalg.pinv(qnodes[0].metric_tensor([params])), grad_at_point)\n",
    "    \n",
    "    energy = cost(params)\n",
    "    energycost.append(energy)\n",
    "    conv = abs(energy - prev_energy)\n",
    "    \n",
    "    prev_energy = energy\n",
    "    \n",
    "    \n",
    "    if conv <= conv_tol:\n",
    "        print('found ground-state at step {:}'.format(n))\n",
    "        print(\"Groud-state energy = \", energy)\n",
    "        break\n",
    "    if n % 20 == 0:\n",
    "        print('step = {:} \\n energy = {:} \\n convergence = {:} ha'.format(n, energy, conv))\n",
    "    \n",
    "    "
   ]
  },
  {
   "cell_type": "code",
   "execution_count": 32,
   "metadata": {},
   "outputs": [
    {
     "data": {
      "image/png": "[encoded data removed]",
      "text/plain": [
       "<Figure size 576x396 with 1 Axes>"
      ]
     },
     "metadata": {},
     "output_type": "display_data"
    }
   ],
   "source": [
    "from matplotlib import pyplot as plt\n",
    "plt.style.use(\"seaborn\")\n",
    "plt.plot(energycost, \"black\", label=\"quantum natural gradient descent\")\n",
    "\n",
    "plt.ylabel(\"Energy\")\n",
    "plt.xlabel(\"Step\")\n",
    "plt.legend()\n",
    "plt.show()"
   ]
  },
  {
   "cell_type": "code",
   "execution_count": null,
   "metadata": {},
   "outputs": [],
   "source": []
  }
 ],
 "metadata": {
  "kernelspec": {
   "display_name": "Python 3",
   "language": "python",
   "name": "python3"
  },
  "language_info": {
   "codemirror_mode": {
    "name": "ipython",
    "version": 3
   },
   "file_extension": ".py",
   "mimetype": "text/x-python",
   "name": "python",
   "nbconvert_exporter": "python",
   "pygments_lexer": "ipython3",
   "version": "3.7.5"
  }
 },
 "nbformat": 4,
 "nbformat_minor": 2
}
