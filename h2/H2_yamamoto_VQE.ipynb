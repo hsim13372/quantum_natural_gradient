{
 "cells": [
  {
   "cell_type": "markdown",
   "metadata": {},
   "source": [
    "## H2 VQE using a user-defined Hamiltonion"
   ]
  },
  {
   "cell_type": "markdown",
   "metadata": {},
   "source": [
    "This notebook feautures a VQE trial that uses a user-defined Hamiltonian, namely, the hamiltonian used in Yamamoto (2019) in the 2-qubit example. We examine the performance of the quantum natural gradient compared to the the vanilla gradient descent optimizer for this small VQE problem."
   ]
  },
  {
   "cell_type": "code",
   "execution_count": 1,
   "metadata": {},
   "outputs": [],
   "source": [
    "%matplotlib inline\n",
    "from matplotlib import pyplot as plt\n",
    "\n",
    "import numpy as np\n",
    "\n",
    "import pennylane as qml\n",
    "from pennylane import Hamiltonian, VQECost\n",
    "\n",
    "import sys\n",
    "sys.path.append('../')\n",
    "from run_vqe import *"
   ]
  },
  {
   "cell_type": "code",
   "execution_count": 2,
   "metadata": {},
   "outputs": [],
   "source": [
    "dev = qml.device(\"default.qubit\", wires=2)\n",
    "\n",
    "#create ansatz \n",
    "def ansatz(params, wires):\n",
    "    qml.BasisState(np.array([1, 0]), wires=wires)\n",
    "    \n",
    "    #parameterized layer 0\n",
    "    qml.RY(params[0], wires=0)\n",
    "    qml.RY(params[1], wires=1)\n",
    "    \n",
    "    #entanglement\n",
    "    qml.CNOT(wires=[0,1])\n",
    "    \n",
    "    #param layer 1\n",
    "    qml.RY(params[2], wires=0)\n",
    "    qml.RY(params[3], wires=1)\n"
   ]
  },
  {
   "cell_type": "code",
   "execution_count": 3,
   "metadata": {},
   "outputs": [],
   "source": [
    "alpha = 0.4\n",
    "beta = 0.2\n",
    "coeffs = [alpha, alpha, beta]\n",
    "\n",
    "#H2 hamiltonian from Yamamoto 2019\n",
    "obs_list = [\n",
    "    qml.PauliZ(0) @ qml.Identity(1),\n",
    "    qml.Identity(0) @ qml.PauliZ(1),\n",
    "    qml.PauliX(0) @ qml.PauliX(1)\n",
    "]\n",
    "\n",
    "#create qnodes\n",
    "ham = qml.Hamiltonian(coeffs, obs_list)\n",
    "\n",
    "#create cost function\n",
    "cost = VQECost(ansatz, ham, dev)\n",
    "\n",
    "init_params = np.array([-0.2,-0.2,0,0])\n",
    "max_iter = 200\n",
    "step_size = 0.05"
   ]
  },
  {
   "cell_type": "code",
   "execution_count": 4,
   "metadata": {
    "scrolled": true
   },
   "outputs": [
    {
     "name": "stdout",
     "output_type": "stream",
     "text": [
      "QNG RUN\n",
      "Iteration = 0,  Energy = -0.76268501 Ha,  Convergence parameter = 0.02618004 Ha\n",
      "Iteration = 20,  Energy = -0.82444782 Ha,  Convergence parameter = 0.00004115 Ha\n",
      "Iteration = 40,  Energy = -0.82461577 Ha,  Convergence parameter = 0.00000094 Ha\n",
      "\n",
      "Final value of the energy = -0.82461577\n",
      "Number of iterations =  40\n"
     ]
    }
   ],
   "source": [
    "print(\"QNG RUN\")\n",
    "qng_run, qng_n_steps = run_vqe(cost_fn=cost, \n",
    "                               max_iter=max_iter, \n",
    "                               initial_params=init_params, \n",
    "                               opt_name='QNGOptimizer', \n",
    "                               step_size=step_size, \n",
    "                               diag_approx=False)"
   ]
  },
  {
   "cell_type": "code",
   "execution_count": 5,
   "metadata": {},
   "outputs": [
    {
     "name": "stdout",
     "output_type": "stream",
     "text": [
      "VANILLA RUN\n",
      "Iteration = 0,  Energy = -0.74338143 Ha,  Convergence parameter = 0.00687646 Ha\n",
      "Iteration = 20,  Energy = -0.80872512 Ha,  Convergence parameter = 0.00133575 Ha\n",
      "Iteration = 40,  Energy = -0.82127028 Ha,  Convergence parameter = 0.00025922 Ha\n",
      "Iteration = 60,  Energy = -0.82378251 Ha,  Convergence parameter = 0.00005537 Ha\n",
      "Iteration = 80,  Energy = -0.82435602 Ha,  Convergence parameter = 0.00001416 Ha\n",
      "Iteration = 100,  Energy = -0.82451772 Ha,  Convergence parameter = 0.00000458 Ha\n",
      "Iteration = 120,  Energy = -0.82457521 Ha,  Convergence parameter = 0.00000181 Ha\n",
      "\n",
      "Final value of the energy = -0.82459505\n",
      "Number of iterations =  135\n"
     ]
    }
   ],
   "source": [
    "print(\"VANILLA RUN\")\n",
    "vanilla_run, vanilla_n_steps = run_vqe(cost_fn=cost, \n",
    "                               max_iter=max_iter, \n",
    "                               initial_params=init_params, \n",
    "                               opt_name='GradientDescentOptimizer', \n",
    "                               step_size=step_size)"
   ]
  },
  {
   "cell_type": "code",
   "execution_count": 6,
   "metadata": {},
   "outputs": [],
   "source": [
    "exact_energy = -np.sqrt(4*alpha**2 + beta**2)"
   ]
  },
  {
   "cell_type": "code",
   "execution_count": 7,
   "metadata": {},
   "outputs": [
    {
     "data": {
      "image/png": "[encoded data removed]",
      "text/plain": [
       "<Figure size 576x396 with 1 Axes>"
      ]
     },
     "metadata": {},
     "output_type": "display_data"
    }
   ],
   "source": [
    "plt.style.use(\"seaborn\")\n",
    "ax = plt.axes()\n",
    "plt.plot(qng_run, \"black\", label=\"Quantum natural gradient descent\")\n",
    "plt.plot(vanilla_run, \"pink\", label=\"Vanilla gradient descent\")\n",
    "\n",
    "plt.ylabel(\"Energy\", fontsize=20)\n",
    "plt.xlabel(\"Step\", fontsize=20)\n",
    "\n",
    "ax.axhline(y=exact_energy, label='Exact energy', color='r')\n",
    "plt.legend(fontsize=15)\n",
    "plt.show()"
   ]
  },
  {
   "cell_type": "code",
   "execution_count": null,
   "metadata": {},
   "outputs": [],
   "source": []
  }
 ],
 "metadata": {
  "kernelspec": {
   "display_name": "Python 3",
   "language": "python",
   "name": "python3"
  },
  "language_info": {
   "codemirror_mode": {
    "name": "ipython",
    "version": 3
   },
   "file_extension": ".py",
   "mimetype": "text/x-python",
   "name": "python",
   "nbconvert_exporter": "python",
   "pygments_lexer": "ipython3",
   "version": "3.7.5"
  }
 },
 "nbformat": 4,
 "nbformat_minor": 2
}
