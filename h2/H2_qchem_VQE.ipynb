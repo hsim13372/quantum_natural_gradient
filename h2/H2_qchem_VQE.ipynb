{
 "cells": [
  {
   "cell_type": "markdown",
   "metadata": {},
   "source": [
    "## Running a VQE Simulation for H2 using pennylane qchem tools."
   ]
  },
  {
   "cell_type": "markdown",
   "metadata": {},
   "source": [
    "Import all necessary pennylane packages, as well as our user-defined run_vqe function, which serves to shorten the notebook & make the code cleaner."
   ]
  },
  {
   "cell_type": "code",
   "execution_count": 1,
   "metadata": {},
   "outputs": [],
   "source": [
    "%matplotlib inline\n",
    "from matplotlib import pyplot as plt\n",
    "\n",
    "import sys\n",
    "sys.path.append('../')\n",
    "from run_vqe import *\n",
    "\n",
    "import pennylane as qml\n",
    "import numpy as np"
   ]
  },
  {
   "cell_type": "markdown",
   "metadata": {},
   "source": [
    "Use pennylane's qchem tools to generate our hamiltonian from the h2.xyz file. "
   ]
  },
  {
   "cell_type": "code",
   "execution_count": 2,
   "metadata": {},
   "outputs": [
    {
     "name": "stderr",
     "output_type": "stream",
     "text": [
      "/anaconda2/envs/py37/lib/python3.7/site-packages/pyscf/scf/chkfile.py:31: H5pyDeprecationWarning: The default file mode will change to 'r' (read-only) in h5py 3.0. To suppress this warning, pass the mode you need to h5py.File(), or set the global default h5.get_config().default_file_mode, or set the environment variable H5PY_DEFAULT_READONLY=1. Available modes are: 'r', 'r+', 'w', 'w-'/'x', 'a'. See the docs for details.\n",
      "  with h5py.File(chkfile) as fh5:\n",
      "/anaconda2/envs/py37/lib/python3.7/site-packages/pyscf/lib/misc.py:876: H5pyDeprecationWarning: The default file mode will change to 'r' (read-only) in h5py 3.0. To suppress this warning, pass the mode you need to h5py.File(), or set the global default h5.get_config().default_file_mode, or set the environment variable H5PY_DEFAULT_READONLY=1. Available modes are: 'r', 'r+', 'w', 'w-'/'x', 'a'. See the docs for details.\n",
      "  h5py.File.__init__(self, filename, *args, **kwargs)\n"
     ]
    }
   ],
   "source": [
    "name = 'h2'\n",
    "geometry = 'h2.xyz'\n",
    "charge = 0\n",
    "multiplicity = 1\n",
    "basis_set = 'sto-3g'\n",
    "\n",
    "hamiltonian, nr_qubits = qml.qchem.generate_hamiltonian(\n",
    "    name,\n",
    "    geometry,\n",
    "    charge,\n",
    "    multiplicity,\n",
    "    basis_set,\n",
    "    n_active_electrons=2,\n",
    "    n_active_orbitals=2,\n",
    "    mapping='jordan_wigner'\n",
    ")"
   ]
  },
  {
   "cell_type": "markdown",
   "metadata": {},
   "source": [
    "Define our device and ansatz"
   ]
  },
  {
   "cell_type": "code",
   "execution_count": 3,
   "metadata": {},
   "outputs": [],
   "source": [
    "dev = qml.device(\"default.qubit\", wires=4)\n",
    "\n",
    "\n",
    "def ansatz(params, wires=[0, 1, 2, 3]):\n",
    "    qml.BasisState(np.array([1, 1, 0, 0]), wires=wires)\n",
    "    for i in wires:\n",
    "        qml.RZ(params[3 * i], wires=i)\n",
    "        qml.RY(params[3 * i + 1], wires=i)\n",
    "        qml.RZ(params[3 * i + 2], wires=i)\n",
    "    qml.CNOT(wires=[2, 3])\n",
    "    qml.CNOT(wires=[2, 0])\n",
    "    qml.CNOT(wires=[3, 1])"
   ]
  },
  {
   "cell_type": "markdown",
   "metadata": {},
   "source": [
    "Create our cost function using pennylane's VQECost function, and initialize all our constants for the upcoming optimization."
   ]
  },
  {
   "cell_type": "code",
   "execution_count": 4,
   "metadata": {},
   "outputs": [],
   "source": [
    "cost = qml.VQECost(ansatz, hamiltonian, dev)\n",
    "\n",
    "init_params = np.random.uniform(low=0, high=2*np.pi, size=12)\n",
    "max_iterations = 500\n",
    "step_size = 0.5\n",
    "conv_tol = 1e-06"
   ]
  },
  {
   "cell_type": "code",
   "execution_count": 5,
   "metadata": {},
   "outputs": [
    {
     "name": "stdout",
     "output_type": "stream",
     "text": [
      "[6.16828138 3.32277067 5.51539484 0.64483205 0.08497558 5.05467899\n",
      " 0.23961822 0.8396981  1.52781316 1.73926654 0.97624871 4.81202693]\n"
     ]
    }
   ],
   "source": [
    "print(init_params)"
   ]
  },
  {
   "cell_type": "markdown",
   "metadata": {},
   "source": [
    "Run both VQE runs using our user-defined run_vqe function, which takes the arguments cost_fn, max_iterations, inital_params, type of optimizer, and optimization step size. To understand more about how this condensation works check out run_vqe.py located in this folder."
   ]
  },
  {
   "cell_type": "code",
   "execution_count": 11,
   "metadata": {},
   "outputs": [
    {
     "name": "stdout",
     "output_type": "stream",
     "text": [
      "Iteration = 0,  Energy = -0.29539266 Ha,  Convergence parameter = 0.05328693 Ha\n",
      "Iteration = 20,  Energy = -0.96063151 Ha,  Convergence parameter = 0.03788994 Ha\n",
      "Iteration = 40,  Energy = -1.11703202 Ha,  Convergence parameter = 0.00013639 Ha\n",
      "Iteration = 60,  Energy = -1.11742722 Ha,  Convergence parameter = 0.00000300 Ha\n",
      "Iteration = 80,  Energy = -1.11751073 Ha,  Convergence parameter = 0.00000570 Ha\n",
      "Iteration = 100,  Energy = -1.11767957 Ha,  Convergence parameter = 0.00001156 Ha\n",
      "Iteration = 120,  Energy = -1.11801862 Ha,  Convergence parameter = 0.00002301 Ha\n",
      "Iteration = 140,  Energy = -1.11868127 Ha,  Convergence parameter = 0.00004422 Ha\n",
      "Iteration = 160,  Energy = -1.11991028 Ha,  Convergence parameter = 0.00007942 Ha\n",
      "Iteration = 180,  Energy = -1.12198174 Ha,  Convergence parameter = 0.00012638 Ha\n",
      "Iteration = 200,  Energy = -1.12496343 Ha,  Convergence parameter = 0.00016605 Ha\n",
      "Iteration = 220,  Energy = -1.12839723 Ha,  Convergence parameter = 0.00016955 Ha\n",
      "Iteration = 240,  Energy = -1.13145442 Ha,  Convergence parameter = 0.00013320 Ha\n",
      "Iteration = 260,  Energy = -1.13360320 Ha,  Convergence parameter = 0.00008460 Ha\n",
      "Iteration = 280,  Energy = -1.13487153 Ha,  Convergence parameter = 0.00004672 Ha\n",
      "Iteration = 300,  Energy = -1.13554358 Ha,  Convergence parameter = 0.00002385 Ha\n",
      "Iteration = 320,  Energy = -1.13587924 Ha,  Convergence parameter = 0.00001168 Ha\n",
      "Iteration = 340,  Energy = -1.13604193 Ha,  Convergence parameter = 0.00000561 Ha\n",
      "Iteration = 360,  Energy = -1.13611964 Ha,  Convergence parameter = 0.00000267 Ha\n",
      "Iteration = 380,  Energy = -1.13615649 Ha,  Convergence parameter = 0.00000126 Ha\n",
      "\n",
      "Final value of the energy = -1.13616411\n",
      "Number of iterations =  387\n"
     ]
    }
   ],
   "source": [
    "vanilla_run, vanilla_n = run_vqe(cost_fn=cost, \n",
    "                      max_iter=max_iterations, \n",
    "                      initial_params=init_params, \n",
    "                      opt_name='GradientDescentOptimizer', \n",
    "                      step_size=step_size)"
   ]
  },
  {
   "cell_type": "code",
   "execution_count": 9,
   "metadata": {},
   "outputs": [
    {
     "name": "stdout",
     "output_type": "stream",
     "text": [
      "Iteration = 0,  Energy = -0.44366386 Ha,  Convergence parameter = 0.20155814 Ha\n",
      "\n",
      "Final value of the energy = -1.13618891\n",
      "Number of iterations =  19\n"
     ]
    }
   ],
   "source": [
    "qng_run, qng_n = run_vqe(cost_fn=cost, \n",
    "                  max_iter=max_iterations, \n",
    "                  initial_params=init_params, \n",
    "                  opt_name='QNGOptimizer', \n",
    "                  step_size=step_size, \n",
    "                  diag_approx=False, lam=0.001)"
   ]
  },
  {
   "cell_type": "markdown",
   "metadata": {},
   "source": [
    "All that's left is to plot the results! As expected, the QNG out-perfomed the vanilla gradient descent optimization method. "
   ]
  },
  {
   "cell_type": "code",
   "execution_count": 14,
   "metadata": {},
   "outputs": [],
   "source": [
    "exact_value = -1.136189454088"
   ]
  },
  {
   "cell_type": "code",
   "execution_count": 17,
   "metadata": {},
   "outputs": [
    {
     "data": {
      "image/png": "[encoded data removed]",
      "text/plain": [
       "<Figure size 576x396 with 1 Axes>"
      ]
     },
     "metadata": {},
     "output_type": "display_data"
    }
   ],
   "source": [
    "ax = plt.axes()\n",
    "\n",
    "plt.style.use(\"seaborn\")\n",
    "plt.plot(np.array(qng_run)-exact_value, color='g', label='QNG')\n",
    "plt.plot(np.array(vanilla_run)-exact_value, color='b', label='Vanilla GD')\n",
    "# ax.axhline(y = -1.136189454088, label='exact groundstate', color='red')\n",
    "\n",
    "plt.yscale('log')\n",
    "\n",
    "plt.legend(fontsize=15)\n",
    "plt.show()"
   ]
  },
  {
   "cell_type": "code",
   "execution_count": null,
   "metadata": {},
   "outputs": [],
   "source": []
  }
 ],
 "metadata": {
  "kernelspec": {
   "display_name": "Python 3",
   "language": "python",
   "name": "python3"
  },
  "language_info": {
   "codemirror_mode": {
    "name": "ipython",
    "version": 3
   },
   "file_extension": ".py",
   "mimetype": "text/x-python",
   "name": "python",
   "nbconvert_exporter": "python",
   "pygments_lexer": "ipython3",
   "version": "3.7.5"
  }
 },
 "nbformat": 4,
 "nbformat_minor": 2
}
