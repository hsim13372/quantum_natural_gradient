{
 "cells": [
  {
   "cell_type": "code",
   "execution_count": 1,
   "metadata": {},
   "outputs": [],
   "source": [
    "%matplotlib inline\n",
    "from matplotlib import pyplot as plt\n",
    "\n",
    "from scipy.linalg import expm\n",
    "\n",
    "import pennylane as qml\n",
    "from pennylane import numpy as np\n",
    "\n",
    "from openfermion.transforms import get_sparse_operator\n",
    "from openfermion.utils import get_ground_state\n",
    "\n",
    "from pyquil.wavefunction import Wavefunction\n",
    "\n",
    "import sys\n",
    "sys.path.append('../QVarCircuit/')\n",
    "from entanglement_capability import *"
   ]
  },
  {
   "cell_type": "code",
   "execution_count": 2,
   "metadata": {},
   "outputs": [
    {
     "name": "stdout",
     "output_type": "stream",
     "text": [
      "4\n"
     ]
    },
    {
     "name": "stderr",
     "output_type": "stream",
     "text": [
      "/anaconda2/envs/py37/lib/python3.7/site-packages/pyscf/scf/chkfile.py:31: H5pyDeprecationWarning: The default file mode will change to 'r' (read-only) in h5py 3.0. To suppress this warning, pass the mode you need to h5py.File(), or set the global default h5.get_config().default_file_mode, or set the environment variable H5PY_DEFAULT_READONLY=1. Available modes are: 'r', 'r+', 'w', 'w-'/'x', 'a'. See the docs for details.\n",
      "  with h5py.File(chkfile) as fh5:\n",
      "/anaconda2/envs/py37/lib/python3.7/site-packages/pyscf/lib/misc.py:876: H5pyDeprecationWarning: The default file mode will change to 'r' (read-only) in h5py 3.0. To suppress this warning, pass the mode you need to h5py.File(), or set the global default h5.get_config().default_file_mode, or set the environment variable H5PY_DEFAULT_READONLY=1. Available modes are: 'r', 'r+', 'w', 'w-'/'x', 'a'. See the docs for details.\n",
      "  h5py.File.__init__(self, filename, *args, **kwargs)\n"
     ]
    }
   ],
   "source": [
    "name ='h2';charge = 0;multiplicity=1;basis= 'sto-3g';geometry = 'h2.xyz';\n",
    "h, nr_qubits = qml.qchem.generate_hamiltonian(\n",
    "    name,\n",
    "    geometry,\n",
    "    charge,\n",
    "    multiplicity,\n",
    "    basis,\n",
    "    mapping='jordan_wigner',\n",
    "    n_active_orbitals=2,\n",
    "    n_active_electrons=2,\n",
    ")\n",
    "print(nr_qubits)"
   ]
  },
  {
   "cell_type": "code",
   "execution_count": 3,
   "metadata": {},
   "outputs": [
    {
     "data": {
      "text/plain": [
       "pennylane.vqe.vqe.Hamiltonian"
      ]
     },
     "execution_count": 3,
     "metadata": {},
     "output_type": "execute_result"
    }
   ],
   "source": [
    "type(h)"
   ]
  },
  {
   "cell_type": "code",
   "execution_count": 4,
   "metadata": {},
   "outputs": [],
   "source": [
    "qop = qml.qchem._terms_to_qubit_operator(h.coeffs, h.ops)"
   ]
  },
  {
   "cell_type": "code",
   "execution_count": 5,
   "metadata": {},
   "outputs": [],
   "source": [
    "# Get sparse (scipy.sparse.csc) representation\n",
    "sparse_operator = get_sparse_operator(qop)\n",
    "\n",
    "# Diagonalize and store exact energies\n",
    "g_energy, g_state = get_ground_state(sparse_operator)"
   ]
  },
  {
   "cell_type": "code",
   "execution_count": 6,
   "metadata": {},
   "outputs": [
    {
     "data": {
      "text/plain": [
       "-1.136189454065922"
      ]
     },
     "execution_count": 6,
     "metadata": {},
     "output_type": "execute_result"
    }
   ],
   "source": [
    "g_energy"
   ]
  },
  {
   "cell_type": "code",
   "execution_count": 7,
   "metadata": {},
   "outputs": [],
   "source": [
    "g_wfn = Wavefunction(g_state)"
   ]
  },
  {
   "cell_type": "code",
   "execution_count": 8,
   "metadata": {},
   "outputs": [
    {
     "name": "stdout",
     "output_type": "stream",
     "text": [
      "(-0.0976476575+0.0377071543j)|0011> + (0.9277387555-0.3582511787j)|1100>\n"
     ]
    }
   ],
   "source": [
    "print(g_wfn)"
   ]
  },
  {
   "cell_type": "code",
   "execution_count": null,
   "metadata": {},
   "outputs": [],
   "source": []
  },
  {
   "cell_type": "code",
   "execution_count": 9,
   "metadata": {},
   "outputs": [],
   "source": [
    "X = np.array([[0,1],[1,0]])\n",
    "Y = np.array([[0,-1.j],[1.j,0]])"
   ]
  },
  {
   "cell_type": "code",
   "execution_count": 10,
   "metadata": {},
   "outputs": [],
   "source": [
    "class Parameterized_iSWAP(qml.operation.Operation):\n",
    "    num_params = 1\n",
    "    num_wires = 2\n",
    "    par_domain = \"R\"\n",
    "    grad_method = \"A\"\n",
    "    generator = [np.kron(X, X) + np.kron(Y, Y), -0.5]\n",
    "    \n",
    "    @staticmethod\n",
    "    def _matrix(*params):\n",
    "        return np.array([[1, 0, 0, 0], \n",
    "                         [0, np.cos(params[0]), -1j*np.sin(params[0]), 0], \n",
    "                         [0, -1j*np.sin(params[0]), np.cos(params[0]), 0],\n",
    "                         [0, 0, 0, 1]])\n",
    "\n",
    "    \n",
    "class CPHASE(qml.operation.Operation):\n",
    "    num_params = 1\n",
    "    num_wires = 2\n",
    "    par_domain = \"R\"\n",
    "    grad_method = \"A\"\n",
    "    generator = [np.diag([0,0,0,1]), -0.25]\n",
    "    \n",
    "    @staticmethod\n",
    "    def _matrix(*params):\n",
    "        return np.array([[1, 0, 0, 0], \n",
    "                       [0, 1, 0, 0], \n",
    "                       [0, 0, 1, 0],\n",
    "                       [0, 0, 0, np.exp(-1.j*params[0])]])"
   ]
  },
  {
   "cell_type": "code",
   "execution_count": 11,
   "metadata": {},
   "outputs": [],
   "source": [
    "class fSimGate(qml.operation.Operation):\n",
    "    \"\"\"Fermionic Simulation gate from:\n",
    "    https://arxiv.org/pdf/1910.11333.pdf\n",
    "    \"\"\"\n",
    "    num_params = 2\n",
    "    num_wires = 2\n",
    "    par_domain = \"R\"\n",
    "    grad_method = \"A\"\n",
    "\n",
    "    @staticmethod\n",
    "    @qml.template\n",
    "    def decomposition(theta, phi, wires):\n",
    "        \"\"\"Perform the gate decomposition from the paper\"\"\"\n",
    "        qml.inv(Parameterized_iSWAP(theta, wires=[wires[0], wires[1]]))\n",
    "        CPHASE(phi, wires=[wires[0], wires[1]])"
   ]
  },
  {
   "cell_type": "code",
   "execution_count": 12,
   "metadata": {},
   "outputs": [],
   "source": [
    "dev = qml.device(\"default.qubit\", wires=4)\n",
    "\n",
    "dev.operations.update({\"Parameterized_iSWAP\", \"CPHASE\"})"
   ]
  },
  {
   "cell_type": "code",
   "execution_count": 25,
   "metadata": {},
   "outputs": [],
   "source": [
    "def circuit(params, wires=[0,1,2,3]):\n",
    "    qml.PauliX(wires=wires[0])\n",
    "    qml.PauliX(wires=wires[1])\n",
    "\n",
    "    qml.RX(params[0], wires=wires[0])\n",
    "    qml.RX(params[1], wires=wires[1])\n",
    "    fSimGate(params[2],params[3], wires=[wires[0],wires[1]])\n",
    "    qml.RZ(params[4], wires=wires[0])\n",
    "    qml.RZ(params[5], wires=wires[1])\n",
    "    \n",
    "    qml.RX(params[6], wires=wires[2])\n",
    "    qml.RX(params[7], wires=wires[3])\n",
    "    fSimGate(params[8],params[9], wires=[wires[2],wires[3]])\n",
    "    qml.RZ(params[10], wires=wires[2])\n",
    "    qml.RZ(params[11], wires=wires[3])\n",
    "    \n",
    "    qml.RX(params[12], wires=wires[1])\n",
    "    qml.RX(params[13], wires=wires[2])\n",
    "    fSimGate(params[14],params[15], wires=[wires[1],wires[2]])\n",
    "    qml.RZ(params[16], wires=wires[1])\n",
    "    qml.RZ(params[17], wires=wires[2])"
   ]
  },
  {
   "cell_type": "code",
   "execution_count": 14,
   "metadata": {
    "scrolled": false
   },
   "outputs": [],
   "source": [
    "initial_params = np.random.uniform(low=0, high=4*np.pi, size=18)"
   ]
  },
  {
   "cell_type": "code",
   "execution_count": 15,
   "metadata": {},
   "outputs": [],
   "source": [
    "qnodes = qml.map(circuit, h.ops, dev, measure='expval')\n",
    "cost = qml.dot([h.coeffs], qnodes)"
   ]
  },
  {
   "cell_type": "code",
   "execution_count": 16,
   "metadata": {},
   "outputs": [
    {
     "data": {
      "text/plain": [
       "array([-0.57268122])"
      ]
     },
     "execution_count": 16,
     "metadata": {},
     "output_type": "execute_result"
    }
   ],
   "source": [
    "cost(initial_params)"
   ]
  },
  {
   "cell_type": "code",
   "execution_count": 17,
   "metadata": {},
   "outputs": [
    {
     "name": "stdout",
     "output_type": "stream",
     "text": [
      "Iteration = 0,  Energy = -0.57268122 Ha,  Convergence parameter = 0.00000000 Ha\n",
      "\n",
      "Final convergence parameter = 0.00000000 Ha\n",
      "Final value of the ground-state energy = -0.57268122 Ha\n",
      "\n",
      "Final circuit parameters = \n",
      " [ 8.43513699  9.14814214  4.50592075 10.89555255  6.89455961  1.7324547\n",
      "  7.84751932  5.15842034  8.84141978  6.19515225  4.53250122 10.78596756\n",
      "  5.29027092  7.90567057  8.24814838  2.38622934  0.60314111  9.50569249]\n",
      "Number of iterations =  0\n"
     ]
    }
   ],
   "source": [
    "max_iter = 200\n",
    "step_size = 0.2\n",
    "conv_tol = 1e-6\n",
    "\n",
    "params = initial_params\n",
    "prev_energy = cost(initial_params)[0]\n",
    "# prev_mw_measure = compute_Q(dev.state, N=4)\n",
    "\n",
    "energycost = [prev_energy]\n",
    "# mwcost = [prev_mw_measure]\n",
    "\n",
    "for n in range(max_iter):\n",
    "    gradient = qml.grad(cost, argnum=[0])\n",
    "    grad_at_point = [float(i) for i in gradient(params)[0]]\n",
    "    \n",
    "    params = params - step_size * np.dot(\n",
    "                np.linalg.pinv(qnodes[0].metric_tensor([params])), grad_at_point)\n",
    "    \n",
    "    energy = cost(params)[0]\n",
    "    energycost.append(energy)\n",
    "    # mwcost.append(compute_Q(dev.state, N=4))\n",
    "    \n",
    "    conv = abs(energy - prev_energy)\n",
    "        \n",
    "    if n % 20 == 0:\n",
    "        print('Iteration = {:},  Energy = {:.8f} Ha,  Convergence parameter = {'\n",
    "              ':.8f} Ha'.format(n, energy, conv))\n",
    "    \n",
    "    if conv <= conv_tol:\n",
    "        break\n",
    "        \n",
    "    prev_energy = energy\n",
    "\n",
    "print()\n",
    "print('Final convergence parameter = {:.8f} Ha'.format(conv))\n",
    "print('Final value of the ground-state energy = {:.8f} Ha'.format(energy))\n",
    "print()\n",
    "print('Final circuit parameters = \\n', params)\n",
    "print('Number of iterations = ', n)"
   ]
  },
  {
   "cell_type": "code",
   "execution_count": 18,
   "metadata": {
    "scrolled": false
   },
   "outputs": [
    {
     "data": {
      "image/png": "[encoded data removed]",
      "text/plain": [
       "<Figure size 576x396 with 1 Axes>"
      ]
     },
     "metadata": {},
     "output_type": "display_data"
    }
   ],
   "source": [
    "plt.style.use(\"seaborn\")\n",
    "plt.plot(energycost, \"k-\", label=\"QNGD\")\n",
    "\n",
    "plt.axhline(y=g_energy, color='r', linestyle='--')\n",
    "\n",
    "\n",
    "plt.ylabel(\"Energy\", fontsize=18)\n",
    "plt.xlabel(\"Step\", fontsize=18)\n",
    "\n",
    "plt.yticks(fontsize=14)\n",
    "plt.xticks(fontsize=14)\n",
    "\n",
    "plt.legend()\n",
    "\n",
    "plt.tight_layout()"
   ]
  },
  {
   "cell_type": "code",
   "execution_count": 19,
   "metadata": {},
   "outputs": [],
   "source": [
    "# plt.style.use(\"seaborn\")\n",
    "# plt.plot(mwcost, \"k-\", label=\"QNGD\")\n",
    "\n",
    "# plt.ylabel(\"Meyer-Wallach measure\", fontsize=18)\n",
    "# plt.xlabel(\"Step\", fontsize=18)\n",
    "\n",
    "# plt.yticks(fontsize=14)\n",
    "# plt.xticks(fontsize=14)\n",
    "\n",
    "# plt.legend()\n",
    "\n",
    "# plt.tight_layout()"
   ]
  },
  {
   "cell_type": "code",
   "execution_count": 20,
   "metadata": {},
   "outputs": [
    {
     "name": "stdout",
     "output_type": "stream",
     "text": [
      "0.563508233139566\n"
     ]
    }
   ],
   "source": [
    "dE = energy - g_energy\n",
    "print(dE)"
   ]
  },
  {
   "cell_type": "code",
   "execution_count": 21,
   "metadata": {},
   "outputs": [],
   "source": [
    "# qnodes[0].draw()"
   ]
  },
  {
   "cell_type": "code",
   "execution_count": 22,
   "metadata": {},
   "outputs": [
    {
     "name": "stdout",
     "output_type": "stream",
     "text": [
      "(0.5332763146-0.7537442844j)|1010> + (-0.1610804737-0.3486244497j)|1100>\n"
     ]
    }
   ],
   "source": [
    "vqe_wfn = Wavefunction(dev.state)\n",
    "print(vqe_wfn)"
   ]
  },
  {
   "cell_type": "code",
   "execution_count": 23,
   "metadata": {},
   "outputs": [
    {
     "data": {
      "text/plain": [
       "{'1010': 0.85, '1100': 0.15}"
      ]
     },
     "execution_count": 23,
     "metadata": {},
     "output_type": "execute_result"
    }
   ],
   "source": [
    "vqe_wfn.pretty_print_probabilities()"
   ]
  },
  {
   "cell_type": "code",
   "execution_count": 24,
   "metadata": {},
   "outputs": [
    {
     "name": "stdout",
     "output_type": "stream",
     "text": [
      "0.14586993824317826\n"
     ]
    }
   ],
   "source": [
    "fid = np.absolute(np.dot(np.conjugate(np.transpose(g_state)), vqe_wfn.amplitudes))**2\n",
    "print(fid)"
   ]
  },
  {
   "cell_type": "code",
   "execution_count": null,
   "metadata": {},
   "outputs": [],
   "source": []
  },
  {
   "cell_type": "code",
   "execution_count": null,
   "metadata": {},
   "outputs": [],
   "source": []
  },
  {
   "cell_type": "code",
   "execution_count": null,
   "metadata": {},
   "outputs": [],
   "source": []
  }
 ],
 "metadata": {
  "kernelspec": {
   "display_name": "Python 3",
   "language": "python",
   "name": "python3"
  },
  "language_info": {
   "codemirror_mode": {
    "name": "ipython",
    "version": 3
   },
   "file_extension": ".py",
   "mimetype": "text/x-python",
   "name": "python",
   "nbconvert_exporter": "python",
   "pygments_lexer": "ipython3",
   "version": "3.7.5"
  }
 },
 "nbformat": 4,
 "nbformat_minor": 2
}
