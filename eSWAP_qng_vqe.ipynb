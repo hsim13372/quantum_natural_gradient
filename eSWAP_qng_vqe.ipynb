{
 "cells": [
  {
   "cell_type": "code",
   "execution_count": 1,
   "metadata": {},
   "outputs": [],
   "source": [
    "%matplotlib inline\n",
    "from matplotlib import pyplot as plt\n",
    "\n",
    "from scipy.linalg import expm\n",
    "\n",
    "import pennylane as qml\n",
    "from pennylane import numpy as np"
   ]
  },
  {
   "cell_type": "code",
   "execution_count": 2,
   "metadata": {},
   "outputs": [
    {
     "name": "stdout",
     "output_type": "stream",
     "text": [
      "4\n"
     ]
    }
   ],
   "source": [
    "name ='LiH';charge = 0;multiplicity=1;basis= 'sto-3g';geometry = 'lih.xyz';\n",
    "h, nr_qubits = qml.qchem.generate_hamiltonian(\n",
    "    name,\n",
    "    geometry,\n",
    "    charge,\n",
    "    multiplicity,\n",
    "    basis,\n",
    "    mapping='jordan_wigner',\n",
    "    n_active_orbitals=2,\n",
    "    n_active_electrons=2,\n",
    ")\n",
    "print(nr_qubits)"
   ]
  },
  {
   "cell_type": "code",
   "execution_count": 3,
   "metadata": {},
   "outputs": [],
   "source": [
    "class Phase_Shift(qml.operation.Operation):\n",
    "    num_params = 1\n",
    "    num_wires = 1\n",
    "    par_domain = \"R\"\n",
    "    grad_method = \"A\"\n",
    "    generator = [np.array([[0, 0], [0, 1]]), -0.5]\n",
    "\n",
    "    @staticmethod\n",
    "    def _matrix(*params):\n",
    "        return np.array([[1, 0], [0, np.exp(-1j * params[0]/2)]])"
   ]
  },
  {
   "cell_type": "code",
   "execution_count": 4,
   "metadata": {},
   "outputs": [],
   "source": [
    "class eSWAP(qml.operation.Operation):\n",
    "    num_params = 1\n",
    "    num_wires = 2\n",
    "    par_domain = \"R\"\n",
    "    grad_method = \"A\"\n",
    "\n",
    "    @staticmethod\n",
    "    @qml.template \n",
    "    def decomposition(theta, wires):\n",
    "        qml.CNOT(wires=[wires[0], wires[1]])\n",
    "        qml.CRX(theta, wires=[wires[1], wires[0]])\n",
    "        qml.PauliX(wires=wires[0])\n",
    "        Phase_Shift(theta, wires=wires[0])\n",
    "        qml.PauliX(wires=wires[0])\n",
    "        qml.CNOT(wires=[wires[0], wires[1]])"
   ]
  },
  {
   "cell_type": "code",
   "execution_count": 5,
   "metadata": {},
   "outputs": [],
   "source": [
    "dev = qml.device(\"default.qubit\", wires=4)\n",
    "\n",
    "dev.operations.update({\"Phase_Shift\"})"
   ]
  },
  {
   "cell_type": "code",
   "execution_count": 6,
   "metadata": {},
   "outputs": [],
   "source": [
    "def circuit(params, wires=[0,1,2,3]):\n",
    "    qml.PauliX(wires=wires[0])\n",
    "    qml.PauliX(wires=wires[1])\n",
    "    qml.PauliX(wires=wires[2])\n",
    "    qml.PauliX(wires=wires[3])\n",
    "    \n",
    "    qml.Hadamard(wires=wires[0])\n",
    "    qml.Hadamard(wires=wires[2])\n",
    "\n",
    "    qml.CNOT(wires=[wires[0], wires[1]])\n",
    "    qml.CNOT(wires=[wires[2], wires[3]])\n",
    "\n",
    "    eSWAP(params[0], wires=[wires[1], wires[2]])\n",
    "    eSWAP(params[1], wires=[wires[0], wires[3]])\n",
    "    eSWAP(params[2], wires=[wires[0], wires[1]])\n",
    "    eSWAP(params[3], wires=[wires[2], wires[3]])\n",
    "    \n",
    "    eSWAP(params[4], wires=[wires[1], wires[2]])\n",
    "    eSWAP(params[5], wires=[wires[0], wires[3]])\n",
    "    eSWAP(params[6], wires=[wires[0], wires[1]])\n",
    "    eSWAP(params[7], wires=[wires[2], wires[3]])\n",
    "\n",
    "    qml.SWAP(wires=[wires[1], wires[2]])\n",
    "    qml.SWAP(wires=[wires[0], wires[1]])\n",
    "    qml.SWAP(wires=[wires[2], wires[3]])\n",
    "    qml.SWAP(wires=[wires[1], wires[2]])\n",
    "    qml.SWAP(wires=[wires[2], wires[3]])"
   ]
  },
  {
   "cell_type": "code",
   "execution_count": 7,
   "metadata": {
    "scrolled": false
   },
   "outputs": [],
   "source": [
    "initial_params = np.random.uniform(low=0, high=4*np.pi, size=8)"
   ]
  },
  {
   "cell_type": "code",
   "execution_count": 8,
   "metadata": {},
   "outputs": [],
   "source": [
    "qnodes = qml.map(circuit, h.ops, dev, measure='expval')\n",
    "cost = qml.dot([h.coeffs], qnodes)"
   ]
  },
  {
   "cell_type": "code",
   "execution_count": 9,
   "metadata": {},
   "outputs": [
    {
     "data": {
      "text/plain": [
       "array([-7.66785211])"
      ]
     },
     "execution_count": 9,
     "metadata": {},
     "output_type": "execute_result"
    }
   ],
   "source": [
    "cost(initial_params)"
   ]
  },
  {
   "cell_type": "code",
   "execution_count": 10,
   "metadata": {},
   "outputs": [
    {
     "name": "stdout",
     "output_type": "stream",
     "text": [
      "step = 0 \n",
      " energy = [-7.67340722] \n",
      " convergence = [0.00555511] ha\n",
      "step = 10 \n",
      " energy = [-7.69053079] \n",
      " convergence = [0.00037508] ha\n",
      "step = 20 \n",
      " energy = [-7.69221746] \n",
      " convergence = [0.0001074] ha\n",
      "step = 30 \n",
      " energy = [-7.69220118] \n",
      " convergence = [0.00068843] ha\n",
      "step = 40 \n",
      " energy = [-7.69370131] \n",
      " convergence = [0.00395892] ha\n",
      "step = 50 \n",
      " energy = [-7.69378379] \n",
      " convergence = [0.00211101] ha\n",
      "step = 60 \n",
      " energy = [-7.69530576] \n",
      " convergence = [0.00449162] ha\n",
      "step = 70 \n",
      " energy = [-7.69652859] \n",
      " convergence = [0.00222687] ha\n",
      "step = 80 \n",
      " energy = [-7.69888844] \n",
      " convergence = [0.00058248] ha\n",
      "step = 90 \n",
      " energy = [-7.7031924] \n",
      " convergence = [0.00038921] ha\n",
      "step = 100 \n",
      " energy = [-7.70884105] \n",
      " convergence = [0.00062374] ha\n",
      "step = 110 \n",
      " energy = [-7.71601165] \n",
      " convergence = [0.00078361] ha\n",
      "step = 120 \n",
      " energy = [-7.72437899] \n",
      " convergence = [0.00086643] ha\n",
      "step = 130 \n",
      " energy = [-7.73307327] \n",
      " convergence = [0.00085957] ha\n",
      "step = 140 \n",
      " energy = [-7.74130227] \n",
      " convergence = [0.00078477] ha\n",
      "step = 150 \n",
      " energy = [-7.7485255] \n",
      " convergence = [0.0006659] ha\n",
      "step = 160 \n",
      " energy = [-7.75439117] \n",
      " convergence = [0.00051862] ha\n",
      "step = 170 \n",
      " energy = [-7.75872616] \n",
      " convergence = [0.00036547] ha\n",
      "step = 180 \n",
      " energy = [-7.76165079] \n",
      " convergence = [0.00023849] ha\n",
      "step = 190 \n",
      " energy = [-7.76352657] \n",
      " convergence = [0.00015179] ha\n"
     ]
    }
   ],
   "source": [
    "max_iter = 200\n",
    "step_size = 0.05\n",
    "conv_tol = 1e-6\n",
    "\n",
    "energycost = []\n",
    "params = initial_params\n",
    "prev_energy = cost(initial_params)\n",
    "\n",
    "for n in range(max_iter):\n",
    "    gradient = qml.grad(cost, argnum=[0])\n",
    "    grad_at_point = [float(i) for i in gradient(params)[0]]\n",
    "    \n",
    "    params = params - step_size * np.dot(\n",
    "                np.linalg.pinv(qnodes[0].metric_tensor([params])), grad_at_point)\n",
    "    \n",
    "    energy = cost(params)\n",
    "    energycost.append(energy)\n",
    "    conv = abs(energy - prev_energy)\n",
    "    \n",
    "    prev_energy = energy\n",
    "    \n",
    "    \n",
    "    if conv <= conv_tol:\n",
    "        print('found ground-state at step {:}'.format(n))\n",
    "        print(\"Ground-state energy = \", energy)\n",
    "        break\n",
    "    if n % 10 == 0:\n",
    "        print('step = {:} \\n energy = {:} \\n convergence = {:} ha'.format(n, energy, conv))"
   ]
  },
  {
   "cell_type": "code",
   "execution_count": 11,
   "metadata": {},
   "outputs": [
    {
     "data": {
      "image/png": "[encoded data removed]",
      "text/plain": [
       "<Figure size 576x396 with 1 Axes>"
      ]
     },
     "metadata": {},
     "output_type": "display_data"
    }
   ],
   "source": [
    "plt.style.use(\"seaborn\")\n",
    "plt.plot(energycost, \"k-\", label=\"QNGD\")\n",
    "\n",
    "plt.ylabel(\"Energy\", fontsize=18)\n",
    "plt.xlabel(\"Step\", fontsize=18)\n",
    "\n",
    "plt.yticks(fontsize=14)\n",
    "plt.xticks(fontsize=14)\n",
    "\n",
    "plt.legend()\n",
    "\n",
    "plt.tight_layout()"
   ]
  },
  {
   "cell_type": "code",
   "execution_count": 12,
   "metadata": {},
   "outputs": [],
   "source": [
    "# qnodes[0].draw()"
   ]
  },
  {
   "cell_type": "code",
   "execution_count": 13,
   "metadata": {},
   "outputs": [],
   "source": [
    "from pyquil.wavefunction import Wavefunction"
   ]
  },
  {
   "cell_type": "code",
   "execution_count": 14,
   "metadata": {},
   "outputs": [
    {
     "name": "stdout",
     "output_type": "stream",
     "text": [
      "(-0.0084302238-0.0024667436j)|0011> + (-0.0180709144-0.061744027j)|0101> + (-0.0570600237+0.0004521301j)|0110> + (-0.0262382996+0.0430369052j)|1001> + (-0.0521591474-0.0743797887j)|1010> + (-0.3354431088+0.9323155477j)|1100>\n"
     ]
    }
   ],
   "source": [
    "wfn = Wavefunction(dev.state)\n",
    "print(wfn)"
   ]
  },
  {
   "cell_type": "code",
   "execution_count": null,
   "metadata": {},
   "outputs": [],
   "source": []
  }
 ],
 "metadata": {
  "kernelspec": {
   "display_name": "Python 3",
   "language": "python",
   "name": "python3"
  },
  "language_info": {
   "codemirror_mode": {
    "name": "ipython",
    "version": 3
   },
   "file_extension": ".py",
   "mimetype": "text/x-python",
   "name": "python",
   "nbconvert_exporter": "python",
   "pygments_lexer": "ipython3",
   "version": "3.7.5"
  }
 },
 "nbformat": 4,
 "nbformat_minor": 2
}
